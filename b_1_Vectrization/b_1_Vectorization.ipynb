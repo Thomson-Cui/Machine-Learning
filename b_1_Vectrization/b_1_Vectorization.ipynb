{
 "cells": [
  {
   "cell_type": "markdown",
   "id": "e8557cb4",
   "metadata": {},
   "source": [
    "# Vectorization"
   ]
  },
  {
   "cell_type": "markdown",
   "id": "b27f7a7c",
   "metadata": {},
   "source": [
    "## 1. Multiple Features"
   ]
  },
  {
   "cell_type": "markdown",
   "id": "49277b37",
   "metadata": {},
   "source": [
    "<div style=\"text-align:center\">\n",
    "    <img src=\"b_1_multiFeature.png\" alt=\"Image\" width=\"500\"/>\n",
    "</div>"
   ]
  },
  {
   "cell_type": "markdown",
   "id": "4d610488",
   "metadata": {},
   "source": [
    "<div style=\"text-align:center\">\n",
    "    <img src=\"b_1_compare.png\" alt=\"Image\" width=\"500\"/>\n",
    "</div>"
   ]
  },
  {
   "cell_type": "markdown",
   "id": "09d77d98",
   "metadata": {},
   "source": [
    "<div style=\"text-align:center\">\n",
    "    <img src=\"b_1_gradient.png\" alt=\"Image\" width=\"500\"/>\n",
    "</div>"
   ]
  },
  {
   "cell_type": "markdown",
   "id": "6a4fe715",
   "metadata": {},
   "source": [
    "## 2. Vectorization is faster！"
   ]
  },
  {
   "cell_type": "code",
   "execution_count": 1,
   "id": "a8821bc2",
   "metadata": {},
   "outputs": [],
   "source": [
    "def my_dot(a, b): \n",
    "    \"\"\"\n",
    "   Compute the dot product of two vectors\n",
    " \n",
    "    Args:\n",
    "      a (ndarray (n,)):  input vector \n",
    "      b (ndarray (n,)):  input vector with same dimension as a\n",
    "    \n",
    "    Returns:\n",
    "      x (scalar): \n",
    "    \"\"\"\n",
    "    x=0\n",
    "    for i in range(a.shape[0]):\n",
    "        x = x + a[i] * b[i]\n",
    "    return x"
   ]
  },
  {
   "cell_type": "code",
   "execution_count": 2,
   "id": "c15afc78",
   "metadata": {},
   "outputs": [
    {
     "name": "stdout",
     "output_type": "stream",
     "text": [
      "np.dot(a, b) =  2501072.5817\n",
      "Vectorized version duration: 6.0935 ms \n",
      "my_dot(a, b) =  2501072.5817\n",
      "loop version duration: 2072.2957 ms \n"
     ]
    }
   ],
   "source": [
    "import numpy as np    # it is an unofficial standard to use np for numpy\n",
    "import time\n",
    "\n",
    "np.random.seed(1)\n",
    "a = np.random.rand(10000000)  # very large arrays\n",
    "b = np.random.rand(10000000)\n",
    "\n",
    "tic = time.time()  # capture start time\n",
    "c = np.dot(a, b)\n",
    "toc = time.time()  # capture end time\n",
    "\n",
    "print(f\"np.dot(a, b) =  {c:.4f}\")\n",
    "print(f\"Vectorized version duration: {1000*(toc-tic):.4f} ms \")\n",
    "\n",
    "tic = time.time()  # capture start time\n",
    "c = my_dot(a,b)\n",
    "toc = time.time()  # capture end time\n",
    "\n",
    "print(f\"my_dot(a, b) =  {c:.4f}\")\n",
    "print(f\"loop version duration: {1000*(toc-tic):.4f} ms \")\n",
    "\n",
    "del(a);del(b)  #remove these big arrays from memory"
   ]
  },
  {
   "cell_type": "markdown",
   "id": "12b86dbf",
   "metadata": {},
   "source": [
    "# RECEFERENCE"
   ]
  },
  {
   "cell_type": "markdown",
   "id": "f4299fdb",
   "metadata": {},
   "source": [
    "[1]https://github.com/kaieye/2022-Machine-Learning-Specialization/blob/main/Supervised%20Machine%20Learning%20Regression%20and%20Classification/week2/1.Multiple%20linear%20regression/C1_W2_Lab01_Python_Numpy_Vectorization_Soln.ipynb\n",
    "\n",
    "[2]https://www.coursera.org/specializations/machine-learning-introduction\n",
    "\n",
    "[3]https://www.bilibili.com/video/BV1Pa411X76s?p=23&spm_id_from=pageDriver&vd_source=8c32dd2bfbfecb1eaa9b0b9c4fb4d83e"
   ]
  }
 ],
 "metadata": {
  "kernelspec": {
   "display_name": "Python 3 (ipykernel)",
   "language": "python",
   "name": "python3"
  },
  "language_info": {
   "codemirror_mode": {
    "name": "ipython",
    "version": 3
   },
   "file_extension": ".py",
   "mimetype": "text/x-python",
   "name": "python",
   "nbconvert_exporter": "python",
   "pygments_lexer": "ipython3",
   "version": "3.9.13"
  }
 },
 "nbformat": 4,
 "nbformat_minor": 5
}
