{
 "cells": [
  {
   "cell_type": "markdown",
   "id": "e8557cb4",
   "metadata": {},
   "source": [
    "# Vectorization"
   ]
  },
  {
   "cell_type": "markdown",
   "id": "b27f7a7c",
   "metadata": {},
   "source": [
    "## 1. Multiple Features"
   ]
  },
  {
   "cell_type": "markdown",
   "id": "49277b37",
   "metadata": {},
   "source": [
    "<div style=\"text-align:center\">\n",
    "    <img src=\"b_1_multiFeature.png\" alt=\"Image\" width=\"500\"/>\n",
    "</div>"
   ]
  },
  {
   "cell_type": "markdown",
   "id": "4d610488",
   "metadata": {},
   "source": [
    "<div style=\"text-align:center\">\n",
    "    <img src=\"b_1_compare.png\" alt=\"Image\" width=\"500\"/>\n",
    "</div>"
   ]
  },
  {
   "cell_type": "markdown",
   "id": "09d77d98",
   "metadata": {},
   "source": [
    "<div style=\"text-align:center\">\n",
    "    <img src=\"b_1_gradient.png\" alt=\"Image\" width=\"500\"/>\n",
    "</div>"
   ]
  },
  {
   "cell_type": "markdown",
   "id": "ed8c7b0e",
   "metadata": {},
   "source": [
    "## 2. 点积np.dot()"
   ]
  },
  {
   "cell_type": "markdown",
   "id": "63e244b7",
   "metadata": {},
   "source": [
    "### 2.1 Shape\n",
    "\n",
    "Shape：表示数组在每个维度上的大小，它是一个元组，其中的每个元素表示数组在相应维度上的长度。例如，对于二维数组，形状为 (m, n)，其中 m 是行数，n 是列数。\n",
    "\n",
    "__np.shape(x)返回数组x在每个维度上的大小.__"
   ]
  },
  {
   "cell_type": "code",
   "execution_count": 1,
   "id": "e4551c6d",
   "metadata": {},
   "outputs": [
    {
     "name": "stdout",
     "output_type": "stream",
     "text": [
      "[14 32]\n",
      "x的维度：(2, 3)\n",
      "y的维度：(3,)\n",
      "z的维度：(2, 3, 4)\n",
      "result得维度：(2,)\n",
      "[14 32]\n"
     ]
    }
   ],
   "source": [
    "import numpy as np\n",
    "\n",
    "x = np.array([[1,2,3],[4,5,6]])\n",
    "y = np.array([1,2,3])\n",
    "z = np.array([[[1, 2, 3, 4],\n",
    "               [5, 6, 7, 8],\n",
    "               [9, 10, 11, 12]],\n",
    "                            \n",
    "               [[13, 14, 15, 16],\n",
    "               [17, 18, 19, 20],\n",
    "               [21, 22, 23, 24]]])\n",
    "\n",
    "result = np.dot(x, y)\n",
    "print(result)\n",
    "print(\"x的维度：\" + str(x.shape))\n",
    "print(\"y的维度：\" + str(y.shape))\n",
    "print(\"z的维度：\" + str(z.shape))\n",
    "print(\"result得维度：\" + str(result.shape))\n",
    "print(result)"
   ]
  },
  {
   "cell_type": "markdown",
   "id": "52972861",
   "metadata": {},
   "source": [
    "(3,) means y is a 1 Dimensional array with 3 elements.\n",
    "\n",
    "(2, 3) means x is a 2-D array with 2 rows and 3 colms.\n",
    "\n",
    "(2, 3, 4) means z is a 3-D array with ... you know."
   ]
  },
  {
   "cell_type": "markdown",
   "id": "70a32958",
   "metadata": {},
   "source": [
    "### 2.2 点积"
   ]
  },
  {
   "cell_type": "markdown",
   "id": "1d732b08",
   "metadata": {},
   "source": [
    "#### 2.2.1 2-D Metrix dot 2-D Metrix\n",
    "\n",
    "Given two 2-D arrays x1 and x2, only if x1's colm num = x2's rows num, the result of (x1 dot x2) exists.\n",
    "\n",
    "For example: x.shape(2,3), y.shape(3,4)\n",
    "Therefore, result.shape = (2,4)\n",
    "\n",
    "算法: 行列相乘"
   ]
  },
  {
   "cell_type": "code",
   "execution_count": 2,
   "id": "bfd2ea39",
   "metadata": {},
   "outputs": [
    {
     "name": "stdout",
     "output_type": "stream",
     "text": [
      "(2, 3)\n",
      "(3, 4)\n",
      "[[35 12 22 22]\n",
      " [80 33 58 61]]\n",
      "(2, 4)\n"
     ]
    }
   ],
   "source": [
    "x = np.array([[1,2,3],[4,5,6]])\n",
    "y = np.array([[3,2,4,5],[4,5,6,7],[8,0,2,1]])\n",
    "print(x.shape)\n",
    "print(y.shape)\n",
    "\n",
    "result = np.dot(x,y)\n",
    "print(result)\n",
    "print(result.shape)"
   ]
  },
  {
   "cell_type": "markdown",
   "id": "5e309e69",
   "metadata": {},
   "source": [
    "<div style=\"text-align:center\">\n",
    "    <img src=\"b_1_dot.png\" alt=\"Image\" width=\"500\"/>\n",
    "</div>"
   ]
  },
  {
   "cell_type": "markdown",
   "id": "3d7d9b65",
   "metadata": {},
   "source": [
    "#### 2.2.2 2-D Metrix dot 1-D Metrix"
   ]
  },
  {
   "cell_type": "code",
   "execution_count": 3,
   "id": "e54e9e1f",
   "metadata": {},
   "outputs": [
    {
     "name": "stdout",
     "output_type": "stream",
     "text": [
      "(2, 3)\n",
      "(3,)\n",
      "[26 62]\n",
      "(2,)\n"
     ]
    }
   ],
   "source": [
    "x = np.array([[1,2,3],[4,5,6]])\n",
    "y = np.array([3,4,5])\n",
    "print(x.shape)\n",
    "print(y.shape)\n",
    "\n",
    "result = np.dot(x,y)\n",
    "print(result)\n",
    "print(result.shape)"
   ]
  },
  {
   "cell_type": "markdown",
   "id": "52f60ea4",
   "metadata": {},
   "source": [
    "#### 2.2.3 Error about 1-D Metrix dot 2-D Metrix"
   ]
  },
  {
   "cell_type": "code",
   "execution_count": 4,
   "id": "3c98c47a",
   "metadata": {},
   "outputs": [
    {
     "name": "stdout",
     "output_type": "stream",
     "text": [
      "(2, 3)\n",
      "(3,)\n",
      "The error message you'll see is:\n",
      "shapes (3,) and (2,3) not aligned: 3 (dim 0) != 2 (dim 0)\n"
     ]
    }
   ],
   "source": [
    "x = np.array([[1,2,3],[4,5,6]])\n",
    "y = np.array([3,4,5])\n",
    "print(x.shape)\n",
    "print(y.shape)\n",
    "\n",
    "try:\n",
    "    result = np.dot(y,x)\n",
    "except Exception as e:\n",
    "    print(\"The error message you'll see is:\")\n",
    "    print(e)\n",
    "# print(result)\n",
    "# print(result.shape)"
   ]
  },
  {
   "cell_type": "markdown",
   "id": "8f1fded3",
   "metadata": {},
   "source": [
    "#### 2.2.4 1-D Metrix dot 1-D Metrix"
   ]
  },
  {
   "cell_type": "code",
   "execution_count": 5,
   "id": "aec523fb",
   "metadata": {},
   "outputs": [
    {
     "name": "stdout",
     "output_type": "stream",
     "text": [
      "(3,)\n",
      "(3,)\n",
      "26\n",
      "()\n"
     ]
    }
   ],
   "source": [
    "x = np.array([1,2,3])\n",
    "y = np.array([3,4,5])\n",
    "print(x.shape)\n",
    "print(y.shape)\n",
    "\n",
    "result = np.dot(x,y)\n",
    "print(result)\n",
    "print(result.shape)"
   ]
  },
  {
   "cell_type": "markdown",
   "id": "51a67fa3",
   "metadata": {},
   "source": [
    "() means it is a scalar."
   ]
  },
  {
   "cell_type": "markdown",
   "id": "6a4fe715",
   "metadata": {},
   "source": [
    "## 3. Vectorization is faster！"
   ]
  },
  {
   "cell_type": "code",
   "execution_count": 6,
   "id": "a8821bc2",
   "metadata": {},
   "outputs": [],
   "source": [
    "def my_dot(a, b): \n",
    "    \"\"\"\n",
    "   Compute the dot product of two vectors\n",
    " \n",
    "    Args:\n",
    "      a (ndarray (n,)):  input vector \n",
    "      b (ndarray (n,)):  input vector with same dimension as a\n",
    "    \n",
    "    Returns:\n",
    "      x (scalar): \n",
    "    \"\"\"\n",
    "    x=0\n",
    "    for i in range(a.shape[0]):\n",
    "        x = x + a[i] * b[i]\n",
    "    return x"
   ]
  },
  {
   "cell_type": "code",
   "execution_count": 7,
   "id": "c15afc78",
   "metadata": {},
   "outputs": [
    {
     "name": "stdout",
     "output_type": "stream",
     "text": [
      "np.dot(a, b) =  2501072.5817\n",
      "Vectorized version duration: 5.9714 ms \n",
      "my_dot(a, b) =  2501072.5817\n",
      "loop version duration: 2110.5132 ms \n"
     ]
    }
   ],
   "source": [
    "import numpy as np    # it is an unofficial standard to use np for numpy\n",
    "import time\n",
    "\n",
    "np.random.seed(1)\n",
    "a = np.random.rand(10000000)  # very large arrays\n",
    "b = np.random.rand(10000000)\n",
    "\n",
    "tic = time.time()  # capture start time\n",
    "c = np.dot(a, b)\n",
    "toc = time.time()  # capture end time\n",
    "\n",
    "print(f\"np.dot(a, b) =  {c:.4f}\")\n",
    "print(f\"Vectorized version duration: {1000*(toc-tic):.4f} ms \")\n",
    "\n",
    "tic = time.time()  # capture start time\n",
    "c = my_dot(a,b)\n",
    "toc = time.time()  # capture end time\n",
    "\n",
    "print(f\"my_dot(a, b) =  {c:.4f}\")\n",
    "print(f\"loop version duration: {1000*(toc-tic):.4f} ms \")\n",
    "\n",
    "del(a);del(b)  #remove these big arrays from memory"
   ]
  },
  {
   "cell_type": "markdown",
   "id": "12b86dbf",
   "metadata": {},
   "source": [
    "# RECEFERENCE"
   ]
  },
  {
   "cell_type": "markdown",
   "id": "f4299fdb",
   "metadata": {},
   "source": [
    "[1]https://github.com/kaieye/2022-Machine-Learning-Specialization/blob/main/Supervised%20Machine%20Learning%20Regression%20and%20Classification/week2/1.Multiple%20linear%20regression/C1_W2_Lab01_Python_Numpy_Vectorization_Soln.ipynb\n",
    "\n",
    "[2]https://www.coursera.org/specializations/machine-learning-introduction\n",
    "\n",
    "[3]https://www.bilibili.com/video/BV1Pa411X76s?p=23&spm_id_from=pageDriver&vd_source=8c32dd2bfbfecb1eaa9b0b9c4fb4d83e"
   ]
  }
 ],
 "metadata": {
  "kernelspec": {
   "display_name": "Python 3 (ipykernel)",
   "language": "python",
   "name": "python3"
  },
  "language_info": {
   "codemirror_mode": {
    "name": "ipython",
    "version": 3
   },
   "file_extension": ".py",
   "mimetype": "text/x-python",
   "name": "python",
   "nbconvert_exporter": "python",
   "pygments_lexer": "ipython3",
   "version": "3.9.13"
  }
 },
 "nbformat": 4,
 "nbformat_minor": 5
}
