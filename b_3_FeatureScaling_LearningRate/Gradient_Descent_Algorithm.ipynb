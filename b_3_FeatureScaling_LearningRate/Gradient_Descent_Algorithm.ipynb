{
 "cells": [
  {
   "cell_type": "code",
   "execution_count": 11,
   "id": "9b6f5616",
   "metadata": {},
   "outputs": [],
   "source": [
    "import numpy as np\n",
    "\n",
    "def Prediction(x, w, b):\n",
    "    \n",
    "    y = np.dot(x, w) + b\n",
    "    \n",
    "    return y\n",
    "\n",
    "def Cost(x, y, w, b):\n",
    "    \n",
    "    m = x.shape[0]\n",
    "    \n",
    "    y_hat = Prediction(x, w, b)\n",
    "    \n",
    "    error = y_hat - y\n",
    "    \n",
    "    J_w_b = np.sum(error**2) / (2*m)\n",
    "    \n",
    "    return J_w_b\n",
    "\n",
    "def Gradient_computing(x, y, w, b):\n",
    "    \n",
    "    m = x.shape[0]\n",
    "    \n",
    "    x_T = np.transpose(x)\n",
    "    \n",
    "    y_hat = Prediction(x, w, b)\n",
    "    \n",
    "    error = y_hat - y\n",
    "    \n",
    "    dj_dw = np.dot(x_T, error) / m\n",
    "    \n",
    "    dj_db = np.sum(error) / m\n",
    "    \n",
    "    return dj_dw, dj_db\n",
    "\n",
    "def Gradient_descent(x, y, w, b, alpha, iterations):\n",
    "    \n",
    "    for i in range(iterations):\n",
    "        \n",
    "        dj_dw, dj_db = Gradient_computing(x, y, w, b)\n",
    "        \n",
    "        w = w - alpha * dj_dw\n",
    "        \n",
    "        b = b - alpha * dj_db\n",
    "        \n",
    "        J_w_b = Cost(x, y, w, b)\n",
    "        \n",
    "        if i % 100 == 0:\n",
    "        \n",
    "            print(\"Itertaion =\", i, \"w =\", w, \"b =\", b, \"J_w_b =\", J_w_b)\n",
    "        \n",
    "    print(\"Itertaion =\", i, \"w =\", w, \"b =\", b, \"J_w_b =\", J_w_b)    \n",
    "    \n",
    "    return w, b, J_w_b"
   ]
  },
  {
   "cell_type": "code",
   "execution_count": 12,
   "id": "faaaba9f",
   "metadata": {},
   "outputs": [
    {
     "name": "stdout",
     "output_type": "stream",
     "text": [
      "Itertaion = 0 w = [2.41334667e-01 5.58666667e-04 1.83666667e-04 6.03500000e-03] b = 0.000145 J_w_b = 2529.4629522316304\n",
      "Itertaion = 100 w = [ 0.20235171  0.00079796 -0.00099658 -0.00219736] b = -0.0001198596187768894 J_w_b = 695.9903158352028\n",
      "Itertaion = 200 w = [ 0.20253446  0.00112715 -0.00214349 -0.00940619] b = -0.0003596578183953631 J_w_b = 694.9206979323058\n",
      "Itertaion = 300 w = [ 0.2027164   0.00145611 -0.00328876 -0.01658286] b = -0.0005983240279392167 J_w_b = 693.8604297851192\n",
      "Itertaion = 400 w = [ 0.20289753  0.00178484 -0.00443238 -0.02372751] b = -0.0008358632706869379 J_w_b = 692.8094286135915\n",
      "Itertaion = 500 w = [ 0.20307785  0.00211335 -0.00557437 -0.03084027] b = -0.0010722805476294614 J_w_b = 691.7676123706057\n",
      "Itertaion = 600 w = [ 0.20325736  0.00244162 -0.00671473 -0.0379213 ] b = -0.0013075808375690552 J_w_b = 690.7348997354993\n",
      "Itertaion = 700 w = [ 0.20343608  0.00276967 -0.00785347 -0.04497072] b = -0.0015417690972177698 J_w_b = 689.7112101076165\n",
      "Itertaion = 800 w = [ 0.20361399  0.00309749 -0.00899059 -0.05198869] b = -0.0017748502612954461 J_w_b = 688.6964635999458\n",
      "Itertaion = 900 w = [ 0.20379112  0.00342509 -0.01012611 -0.05897533] b = -0.0020068292426272975 J_w_b = 687.6905810327936\n",
      "Itertaion = 999 w = [ 0.20396569  0.00374919 -0.0112487  -0.0658614 ] b = -0.0022354075309325345 J_w_b = 686.7034116665213\n",
      "Best parameters w, b, J_w_b [ 0.20396569  0.00374919 -0.0112487  -0.0658614 ] -0.0022354075309325345 686.7034116665213\n"
     ]
    }
   ],
   "source": [
    "X_train = np.array([[2104, 5, 1, 45], \n",
    "                    [1416, 3, 2, 40], \n",
    "                    [852, 2, 1, 35]])\n",
    "\n",
    "y_train = np.array([460, 232, 178])\n",
    "\n",
    "w = np.zeros(len(X_train[0]))\n",
    "b = 0\n",
    "alpha = 5.0e-7\n",
    "iterations = 1000\n",
    "\n",
    "w, b, J_w_b = Gradient_descent(X_train, y_train, w, b, alpha, iterations)\n",
    "\n",
    "print(\"Best parameters w, b, J_w_b\", w, b, J_w_b)"
   ]
  }
 ],
 "metadata": {
  "kernelspec": {
   "display_name": "Python 3 (ipykernel)",
   "language": "python",
   "name": "python3"
  },
  "language_info": {
   "codemirror_mode": {
    "name": "ipython",
    "version": 3
   },
   "file_extension": ".py",
   "mimetype": "text/x-python",
   "name": "python",
   "nbconvert_exporter": "python",
   "pygments_lexer": "ipython3",
   "version": "3.9.13"
  }
 },
 "nbformat": 4,
 "nbformat_minor": 5
}
