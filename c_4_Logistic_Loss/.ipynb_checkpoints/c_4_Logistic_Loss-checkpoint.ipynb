{
 "cells": [
  {
   "cell_type": "markdown",
   "id": "94b587fe",
   "metadata": {},
   "source": [
    "# Logistic Regression, Logistic Loss"
   ]
  },
  {
   "cell_type": "markdown",
   "id": "0077dd96",
   "metadata": {},
   "source": [
    "## 1. Why Squared Error Cost can't work on Logistic Regression?"
   ]
  },
  {
   "cell_type": "markdown",
   "id": "afffabac",
   "metadata": {},
   "source": [
    "<div style=\"text-align:center\">\n",
    "    <img src=\"cost.png\" alt=\"Image\" width=\"600\"/>\n",
    "</div>\n",
    "\n",
    "Cost Function on Logistic Regression的非凸性使得有效地找到全局最小值具有挑战性。基于梯度的优化算法可能会卡在局部最小值中，并且无法保证收敛到最优解。"
   ]
  },
  {
   "cell_type": "markdown",
   "id": "4cc18060",
   "metadata": {},
   "source": [
    "## 2. Logistic Loss Function"
   ]
  },
  {
   "cell_type": "markdown",
   "id": "b09e24cb",
   "metadata": {},
   "source": [
    "$$L\\big(f_{\\vec{w},b}\\big(\\vec{x}^{(i)}\\big),y^{(i)}\\big)=\\begin{cases}-\\log\\big(f_{\\vec{w},b}\\big(\\vec{x}^{(i)}\\big)\\big)&\\text{if }y^{(i)}=1\\\\-\\log\\big(1-f_{\\vec{w},b}\\big(\\vec{x}^{(i)}\\big)\\big)&\\text{if }y^{(i)}=0\\end{cases}$$\n",
    "\n",
    "The loss function above can be rewritten to be easier to implement.\n",
    "\n",
    "$$loss(f_{\\mathbf{w},b}(\\mathbf{x}^{(i)}), y^{(i)}) = (-y^{(i)} \\log\\left(f_{\\mathbf{w},b}\\left( \\mathbf{x}^{(i)} \\right) \\right) - \\left( 1 - y^{(i)}\\right) \\log \\left( 1 - f_{\\mathbf{w},b}\\left( \\mathbf{x}^{(i)} \\right) \\right)$$"
   ]
  },
  {
   "cell_type": "markdown",
   "id": "6271ddc4",
   "metadata": {},
   "source": [
    "### 2.1. When y = 1"
   ]
  },
  {
   "cell_type": "markdown",
   "id": "16c7be03",
   "metadata": {},
   "source": [
    "<div style=\"text-align:center\">\n",
    "    <img src=\"C1_W3_LogisticLoss_a.png\" alt=\"Image\" width=\"600\"/>\n",
    "</div>"
   ]
  },
  {
   "cell_type": "markdown",
   "id": "738eb74e",
   "metadata": {},
   "source": [
    "在实际的标签y = 1时， 预测结果$f_{\\vec{w},b}(\\vec{x})$肯定是朝着它趋近于1的方向下降的，这样整个Loss才会趋近于0，获得好的预测."
   ]
  },
  {
   "cell_type": "markdown",
   "id": "42d22b7b",
   "metadata": {},
   "source": [
    "### 2.2. When y = 0"
   ]
  },
  {
   "cell_type": "markdown",
   "id": "66c0239a",
   "metadata": {},
   "source": [
    "<div style=\"text-align:center\">\n",
    "    <img src=\"C1_W3_LogisticLoss_b.png\" alt=\"Image\" width=\"600\"/>\n",
    "</div>"
   ]
  },
  {
   "cell_type": "markdown",
   "id": "ac1a99b2",
   "metadata": {},
   "source": [
    "在实际的标签y = 0时， 预测结果$f_{\\vec{w},b}(\\vec{x})$肯定是朝着它趋近于0的方向下降的，这样整个Loss才会趋近于0，获得好的预测."
   ]
  },
  {
   "cell_type": "markdown",
   "id": "8c492597",
   "metadata": {},
   "source": [
    "## 3. Cost"
   ]
  },
  {
   "cell_type": "markdown",
   "id": "cd8f2c83",
   "metadata": {},
   "source": [
    "<div style=\"text-align:center\">\n",
    "    <img src=\"C1_W3_LogisticLoss_c.png\" alt=\"Image\" width=\"600\"/>\n",
    "</div>"
   ]
  },
  {
   "cell_type": "markdown",
   "id": "2369bca8",
   "metadata": {},
   "source": [
    "Cost,也就是total Loss最小的时候，所得到的w，b就是Best Parameters."
   ]
  }
 ],
 "metadata": {
  "kernelspec": {
   "display_name": "Python 3 (ipykernel)",
   "language": "python",
   "name": "python3"
  },
  "language_info": {
   "codemirror_mode": {
    "name": "ipython",
    "version": 3
   },
   "file_extension": ".py",
   "mimetype": "text/x-python",
   "name": "python",
   "nbconvert_exporter": "python",
   "pygments_lexer": "ipython3",
   "version": "3.9.13"
  }
 },
 "nbformat": 4,
 "nbformat_minor": 5
}
