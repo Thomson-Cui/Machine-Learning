{
 "cells": [
  {
   "cell_type": "markdown",
   "id": "d8267add",
   "metadata": {},
   "source": [
    "# Linear Regression using Scikit-Learn\n",
    "\n",
    "There is an open-source, commercially usable machine learning toolkit called [scikit-learn](https://scikit-learn.org/stable/index.html). This toolkit contains implementations of many of the algorithms that you will work with in this course."
   ]
  },
  {
   "cell_type": "markdown",
   "id": "97956ab5",
   "metadata": {},
   "source": [
    "## Goals\n",
    "\n",
    "- Utilize  scikit-learn to implement linear regression using Gradient Descent"
   ]
  },
  {
   "cell_type": "code",
   "execution_count": 1,
   "id": "ea410caf",
   "metadata": {},
   "outputs": [],
   "source": [
    "import numpy as np\n",
    "np.set_printoptions(precision=2)\n",
    "import pandas as pd"
   ]
  },
  {
   "cell_type": "markdown",
   "id": "19b01e4d",
   "metadata": {},
   "source": [
    "np.set_printoptions(precision=2) 是NumPy库中用于设置打印选项的函数之一。在这个特定的例子中，通过 precision=2 参数，设置了浮点数的输出精度为小数点后两位。"
   ]
  },
  {
   "cell_type": "code",
   "execution_count": 2,
   "id": "e82c86e2",
   "metadata": {},
   "outputs": [],
   "source": [
    "from sklearn.linear_model import LinearRegression, SGDRegressor\n",
    "from sklearn.preprocessing import StandardScaler\n",
    "import matplotlib.pyplot as plt"
   ]
  },
  {
   "cell_type": "markdown",
   "id": "b14dfdb5",
   "metadata": {},
   "source": [
    "## Dataset"
   ]
  },
  {
   "cell_type": "code",
   "execution_count": 3,
   "id": "b76f425d",
   "metadata": {},
   "outputs": [
    {
     "data": {
      "text/html": [
       "<div>\n",
       "<style scoped>\n",
       "    .dataframe tbody tr th:only-of-type {\n",
       "        vertical-align: middle;\n",
       "    }\n",
       "\n",
       "    .dataframe tbody tr th {\n",
       "        vertical-align: top;\n",
       "    }\n",
       "\n",
       "    .dataframe thead th {\n",
       "        text-align: right;\n",
       "    }\n",
       "</style>\n",
       "<table border=\"1\" class=\"dataframe\">\n",
       "  <thead>\n",
       "    <tr style=\"text-align: right;\">\n",
       "      <th></th>\n",
       "      <th>Size(sqft)</th>\n",
       "      <th>Bedrooms</th>\n",
       "      <th>floors</th>\n",
       "      <th>Age</th>\n",
       "      <th>Price(1000s dollars)</th>\n",
       "    </tr>\n",
       "  </thead>\n",
       "  <tbody>\n",
       "    <tr>\n",
       "      <th>0</th>\n",
       "      <td>952.0</td>\n",
       "      <td>2.0</td>\n",
       "      <td>1.0</td>\n",
       "      <td>65.0</td>\n",
       "      <td>271.5</td>\n",
       "    </tr>\n",
       "    <tr>\n",
       "      <th>1</th>\n",
       "      <td>1244.0</td>\n",
       "      <td>3.0</td>\n",
       "      <td>1.0</td>\n",
       "      <td>64.0</td>\n",
       "      <td>300.0</td>\n",
       "    </tr>\n",
       "    <tr>\n",
       "      <th>2</th>\n",
       "      <td>1947.0</td>\n",
       "      <td>3.0</td>\n",
       "      <td>2.0</td>\n",
       "      <td>17.0</td>\n",
       "      <td>509.8</td>\n",
       "    </tr>\n",
       "    <tr>\n",
       "      <th>3</th>\n",
       "      <td>1725.0</td>\n",
       "      <td>3.0</td>\n",
       "      <td>2.0</td>\n",
       "      <td>42.0</td>\n",
       "      <td>394.0</td>\n",
       "    </tr>\n",
       "    <tr>\n",
       "      <th>4</th>\n",
       "      <td>1959.0</td>\n",
       "      <td>3.0</td>\n",
       "      <td>2.0</td>\n",
       "      <td>15.0</td>\n",
       "      <td>540.0</td>\n",
       "    </tr>\n",
       "    <tr>\n",
       "      <th>...</th>\n",
       "      <td>...</td>\n",
       "      <td>...</td>\n",
       "      <td>...</td>\n",
       "      <td>...</td>\n",
       "      <td>...</td>\n",
       "    </tr>\n",
       "    <tr>\n",
       "      <th>95</th>\n",
       "      <td>1224.0</td>\n",
       "      <td>2.0</td>\n",
       "      <td>2.0</td>\n",
       "      <td>12.0</td>\n",
       "      <td>329.0</td>\n",
       "    </tr>\n",
       "    <tr>\n",
       "      <th>96</th>\n",
       "      <td>1432.0</td>\n",
       "      <td>2.0</td>\n",
       "      <td>1.0</td>\n",
       "      <td>43.0</td>\n",
       "      <td>388.0</td>\n",
       "    </tr>\n",
       "    <tr>\n",
       "      <th>97</th>\n",
       "      <td>1660.0</td>\n",
       "      <td>3.0</td>\n",
       "      <td>2.0</td>\n",
       "      <td>19.0</td>\n",
       "      <td>390.0</td>\n",
       "    </tr>\n",
       "    <tr>\n",
       "      <th>98</th>\n",
       "      <td>1212.0</td>\n",
       "      <td>3.0</td>\n",
       "      <td>1.0</td>\n",
       "      <td>20.0</td>\n",
       "      <td>356.0</td>\n",
       "    </tr>\n",
       "    <tr>\n",
       "      <th>99</th>\n",
       "      <td>1050.0</td>\n",
       "      <td>2.0</td>\n",
       "      <td>1.0</td>\n",
       "      <td>65.0</td>\n",
       "      <td>257.8</td>\n",
       "    </tr>\n",
       "  </tbody>\n",
       "</table>\n",
       "<p>100 rows × 5 columns</p>\n",
       "</div>"
      ],
      "text/plain": [
       "    Size(sqft)  Bedrooms  floors   Age  Price(1000s dollars)\n",
       "0        952.0       2.0     1.0  65.0                 271.5\n",
       "1       1244.0       3.0     1.0  64.0                 300.0\n",
       "2       1947.0       3.0     2.0  17.0                 509.8\n",
       "3       1725.0       3.0     2.0  42.0                 394.0\n",
       "4       1959.0       3.0     2.0  15.0                 540.0\n",
       "..         ...       ...     ...   ...                   ...\n",
       "95      1224.0       2.0     2.0  12.0                 329.0\n",
       "96      1432.0       2.0     1.0  43.0                 388.0\n",
       "97      1660.0       3.0     2.0  19.0                 390.0\n",
       "98      1212.0       3.0     1.0  20.0                 356.0\n",
       "99      1050.0       2.0     1.0  65.0                 257.8\n",
       "\n",
       "[100 rows x 5 columns]"
      ]
     },
     "execution_count": 3,
     "metadata": {},
     "output_type": "execute_result"
    }
   ],
   "source": [
    "data = pd.read_csv(\"data/houses.txt\", header=None, \n",
    "                   names=['Size(sqft)', 'Bedrooms', \n",
    "                          'floors', 'Age', \n",
    "                          'Price(1000s dollars)'])\n",
    "\n",
    "df = pd.DataFrame(data)\n",
    "\n",
    "df"
   ]
  },
  {
   "cell_type": "code",
   "execution_count": 4,
   "id": "a6d8b612",
   "metadata": {},
   "outputs": [
    {
     "data": {
      "text/html": [
       "<div>\n",
       "<style scoped>\n",
       "    .dataframe tbody tr th:only-of-type {\n",
       "        vertical-align: middle;\n",
       "    }\n",
       "\n",
       "    .dataframe tbody tr th {\n",
       "        vertical-align: top;\n",
       "    }\n",
       "\n",
       "    .dataframe thead th {\n",
       "        text-align: right;\n",
       "    }\n",
       "</style>\n",
       "<table border=\"1\" class=\"dataframe\">\n",
       "  <thead>\n",
       "    <tr style=\"text-align: right;\">\n",
       "      <th></th>\n",
       "      <th>Size(sqft)</th>\n",
       "      <th>Bedrooms</th>\n",
       "      <th>floors</th>\n",
       "      <th>Age</th>\n",
       "    </tr>\n",
       "  </thead>\n",
       "  <tbody>\n",
       "    <tr>\n",
       "      <th>0</th>\n",
       "      <td>952.0</td>\n",
       "      <td>2.0</td>\n",
       "      <td>1.0</td>\n",
       "      <td>65.0</td>\n",
       "    </tr>\n",
       "    <tr>\n",
       "      <th>1</th>\n",
       "      <td>1244.0</td>\n",
       "      <td>3.0</td>\n",
       "      <td>1.0</td>\n",
       "      <td>64.0</td>\n",
       "    </tr>\n",
       "    <tr>\n",
       "      <th>2</th>\n",
       "      <td>1947.0</td>\n",
       "      <td>3.0</td>\n",
       "      <td>2.0</td>\n",
       "      <td>17.0</td>\n",
       "    </tr>\n",
       "    <tr>\n",
       "      <th>3</th>\n",
       "      <td>1725.0</td>\n",
       "      <td>3.0</td>\n",
       "      <td>2.0</td>\n",
       "      <td>42.0</td>\n",
       "    </tr>\n",
       "    <tr>\n",
       "      <th>4</th>\n",
       "      <td>1959.0</td>\n",
       "      <td>3.0</td>\n",
       "      <td>2.0</td>\n",
       "      <td>15.0</td>\n",
       "    </tr>\n",
       "    <tr>\n",
       "      <th>...</th>\n",
       "      <td>...</td>\n",
       "      <td>...</td>\n",
       "      <td>...</td>\n",
       "      <td>...</td>\n",
       "    </tr>\n",
       "    <tr>\n",
       "      <th>95</th>\n",
       "      <td>1224.0</td>\n",
       "      <td>2.0</td>\n",
       "      <td>2.0</td>\n",
       "      <td>12.0</td>\n",
       "    </tr>\n",
       "    <tr>\n",
       "      <th>96</th>\n",
       "      <td>1432.0</td>\n",
       "      <td>2.0</td>\n",
       "      <td>1.0</td>\n",
       "      <td>43.0</td>\n",
       "    </tr>\n",
       "    <tr>\n",
       "      <th>97</th>\n",
       "      <td>1660.0</td>\n",
       "      <td>3.0</td>\n",
       "      <td>2.0</td>\n",
       "      <td>19.0</td>\n",
       "    </tr>\n",
       "    <tr>\n",
       "      <th>98</th>\n",
       "      <td>1212.0</td>\n",
       "      <td>3.0</td>\n",
       "      <td>1.0</td>\n",
       "      <td>20.0</td>\n",
       "    </tr>\n",
       "    <tr>\n",
       "      <th>99</th>\n",
       "      <td>1050.0</td>\n",
       "      <td>2.0</td>\n",
       "      <td>1.0</td>\n",
       "      <td>65.0</td>\n",
       "    </tr>\n",
       "  </tbody>\n",
       "</table>\n",
       "<p>100 rows × 4 columns</p>\n",
       "</div>"
      ],
      "text/plain": [
       "    Size(sqft)  Bedrooms  floors   Age\n",
       "0        952.0       2.0     1.0  65.0\n",
       "1       1244.0       3.0     1.0  64.0\n",
       "2       1947.0       3.0     2.0  17.0\n",
       "3       1725.0       3.0     2.0  42.0\n",
       "4       1959.0       3.0     2.0  15.0\n",
       "..         ...       ...     ...   ...\n",
       "95      1224.0       2.0     2.0  12.0\n",
       "96      1432.0       2.0     1.0  43.0\n",
       "97      1660.0       3.0     2.0  19.0\n",
       "98      1212.0       3.0     1.0  20.0\n",
       "99      1050.0       2.0     1.0  65.0\n",
       "\n",
       "[100 rows x 4 columns]"
      ]
     },
     "execution_count": 4,
     "metadata": {},
     "output_type": "execute_result"
    }
   ],
   "source": [
    "X_train = df.iloc[:,:4]\n",
    "X_train"
   ]
  },
  {
   "cell_type": "code",
   "execution_count": 5,
   "id": "abc39afa",
   "metadata": {},
   "outputs": [
    {
     "data": {
      "text/plain": [
       "0     271.5\n",
       "1     300.0\n",
       "2     509.8\n",
       "3     394.0\n",
       "4     540.0\n",
       "      ...  \n",
       "95    329.0\n",
       "96    388.0\n",
       "97    390.0\n",
       "98    356.0\n",
       "99    257.8\n",
       "Name: Price(1000s dollars), Length: 100, dtype: float64"
      ]
     },
     "execution_count": 5,
     "metadata": {},
     "output_type": "execute_result"
    }
   ],
   "source": [
    "y_train = df.iloc[:, 4]\n",
    "y_train"
   ]
  },
  {
   "cell_type": "markdown",
   "id": "acaccbb4",
   "metadata": {},
   "source": [
    "# Gradient Descent\n",
    "\n",
    "Scikit-learn has a **gradient descent regression model** [sklearn.linear_model.SGDRegressor](https://scikit-learn.org/stable/modules/generated/sklearn.linear_model.SGDRegressor.html#examples-using-sklearn-linear-model-sgdregressor).  Like your previous implementation of gradient descent, this model performs best with **normalized inputs**. [sklearn.preprocessing.StandardScaler](https://scikit-learn.org/stable/modules/generated/sklearn.preprocessing.StandardScaler.html#sklearn.preprocessing.StandardScaler) will perform z-score normalization as in a previous lab. Here it is referred to as 'standard score'."
   ]
  },
  {
   "cell_type": "markdown",
   "id": "4ce7e72f",
   "metadata": {},
   "source": [
    "### Scale/normalize the training data"
   ]
  },
  {
   "cell_type": "code",
   "execution_count": 6,
   "id": "0b47e0f6",
   "metadata": {},
   "outputs": [
    {
     "name": "stdout",
     "output_type": "stream",
     "text": [
      "Peak to Peak range by column in Raw.\n",
      "[2.41e+03 4.00e+00 1.00e+00 9.50e+01]\n",
      "\n",
      " Peak to Peak range by column in Normalized.\n",
      "[5.84 6.13 2.06 3.68]\n"
     ]
    }
   ],
   "source": [
    "scaler = StandardScaler()\n",
    "X_norm = scaler.fit_transform(X_train)\n",
    "print(f\"Peak to Peak range by column in Raw.\\n{np.ptp(X_train, axis = 0)}\")\n",
    "print(f\"\\n Peak to Peak range by column in Normalized.\\n{np.ptp(X_norm, axis = 0)}\")"
   ]
  },
  {
   "cell_type": "markdown",
   "id": "091bd37d",
   "metadata": {},
   "source": [
    "### Create and fit the regression model"
   ]
  },
  {
   "cell_type": "code",
   "execution_count": 7,
   "id": "8650fa97",
   "metadata": {},
   "outputs": [
    {
     "name": "stdout",
     "output_type": "stream",
     "text": [
      "SGDRegressor()\n",
      "number of iterations completed: 128, number of weight updates: 12801.0\n"
     ]
    }
   ],
   "source": [
    "sgdr = SGDRegressor(max_iter = 1000)\n",
    "sgdr.fit(X_norm, y_train)\n",
    "print(sgdr)\n",
    "print(f\"number of iterations completed: {sgdr.n_iter_}, number of weight updates: {sgdr.t_}\")"
   ]
  },
  {
   "cell_type": "markdown",
   "id": "5485c1ea",
   "metadata": {},
   "source": [
    "### View parameters\n",
    "Note, the parameters are associated with the *normalized* input data. The fit parameters are very close to those found in the previous lab with this data."
   ]
  },
  {
   "cell_type": "code",
   "execution_count": 8,
   "id": "025d1f90",
   "metadata": {},
   "outputs": [
    {
     "name": "stdout",
     "output_type": "stream",
     "text": [
      "Model parameters: w_norm = [110.24 -21.29 -32.45 -37.86], b_norm = [362.23]\n",
      "\n",
      "Model parameters from previous project b_3_FeatureScaling_LearningRate:\n",
      "Itertaion = 999\n",
      "w = [1.1e+02, -2.1e+01, -3.3e+01, -3.8e+01]\n",
      "b = 3.6e+02\n",
      "J_w_b = 2.19711e+02\n"
     ]
    }
   ],
   "source": [
    "b_norm = sgdr.intercept_\n",
    "w_norm = sgdr.coef_\n",
    "print(f\"Model parameters: w_norm = {w_norm}, b_norm = {b_norm}\")\n",
    "print(\"\\nModel parameters from previous project b_3_FeatureScaling_LearningRate:\")\n",
    "print(\"Itertaion = 999\\nw = [1.1e+02, -2.1e+01, -3.3e+01, -3.8e+01]\\nb = 3.6e+02\\nJ_w_b = 2.19711e+02\")"
   ]
  },
  {
   "cell_type": "markdown",
   "id": "90dd67f5",
   "metadata": {},
   "source": [
    "### Make predictions\n",
    "Predict the targets of the training data. Use both the `predict` routine and compute using $w$ and $b$."
   ]
  },
  {
   "cell_type": "code",
   "execution_count": 9,
   "id": "427df81c",
   "metadata": {},
   "outputs": [
    {
     "name": "stdout",
     "output_type": "stream",
     "text": [
      "prediction using np.dot() and sgdr.predict match:True\n"
     ]
    }
   ],
   "source": [
    "# make a predicton using sgdr.predict()\n",
    "y_pred_sgdr = sgdr.predict(X_norm)\n",
    "# make a prediction using np.dot()\n",
    "y_pred = np.dot(X_norm, w_norm) + b_norm\n",
    "print(f\"prediction using np.dot() and sgdr.predict match:{(y_pred == y_pred_sgdr).all()}\")"
   ]
  },
  {
   "cell_type": "code",
   "execution_count": 10,
   "id": "bb98eea6",
   "metadata": {},
   "outputs": [
    {
     "name": "stdout",
     "output_type": "stream",
     "text": [
      "Prediction on training set:\n",
      "[248.62 295.56 485.73 389.65]\n",
      "Prediction on training set:\n",
      "[248.62 295.56 485.73 389.65]\n",
      "Target values:\n",
      "0    271.5\n",
      "1    300.0\n",
      "2    509.8\n",
      "3    394.0\n",
      "Name: Price(1000s dollars), dtype: float64\n"
     ]
    }
   ],
   "source": [
    "print(f\"Prediction on training set:\\n{y_pred_sgdr[:4]}\")\n",
    "print(f\"Prediction on training set:\\n{y_pred[:4]}\")\n",
    "print(f\"Target values:\\n{y_train[:4]}\")"
   ]
  },
  {
   "cell_type": "markdown",
   "id": "e2b0cabe",
   "metadata": {},
   "source": [
    "### Plot Results\n",
    "Let's plot the predictions versus the target values."
   ]
  },
  {
   "cell_type": "code",
   "execution_count": 11,
   "id": "374c1a6c",
   "metadata": {},
   "outputs": [
    {
     "data": {
      "image/png": "[encoded data removed]",
      "text/plain": [
       "<Figure size 1200x300 with 4 Axes>"
      ]
     },
     "metadata": {},
     "output_type": "display_data"
    }
   ],
   "source": [
    "fig, ax = plt.subplots(1, 4, figsize = (12, 3))\n",
    "\n",
    "for i in range(len(ax)):\n",
    "    \n",
    "    ax[i].scatter(X_train.iloc[:,i], y_train, label = \"target\", color = \"blue\", s = 5)\n",
    "    \n",
    "    ax[i].set_xlabel(X_train.columns[i])\n",
    "    \n",
    "    ax[i].scatter(X_train.iloc[:,i], y_pred, label = \"predict\", color = \"orange\", s = 5)\n",
    "    \n",
    "ax[0].set_ylabel(\"Price(1000s dollars)\")\n",
    "ax[0].legend()\n",
    "fig.suptitle(\"Target vs Prediction using z-score normalized model\")\n",
    "plt.show()"
   ]
  },
  {
   "cell_type": "markdown",
   "id": "8dd9b99b",
   "metadata": {},
   "source": [
    "# What we learned\n",
    "\n",
    "- utilized an open-source machine learning toolkit, scikit-learn\n",
    "- implemented linear regression using gradient descent and feature normalization from that toolkit"
   ]
  },
  {
   "cell_type": "markdown",
   "id": "4f10483d",
   "metadata": {},
   "source": [
    "# REFERENCE\n",
    "\n",
    "[1]https://github.com/Thomson-Cui/2022-Machine-Learning-Specialization/blob/main/Supervised%20Machine%20Learning%20Regression%20and%20Classification/week2/3.Gradient%20descent%20in%20practice/C1_W2_Lab05_Sklearn_GD_Soln.ipynb\n",
    "\n",
    "[2]https://www.bilibili.com/video/BV1Pa411X76s/?p=30&spm_id_from=333.880.my_history.page.click&vd_source=8c32dd2bfbfecb1eaa9b0b9c4fb4d83e\n",
    "\n",
    "[3]https://www.coursera.org/specializations/machine-learning-introduction"
   ]
  }
 ],
 "metadata": {
  "kernelspec": {
   "display_name": "Python 3 (ipykernel)",
   "language": "python",
   "name": "python3"
  },
  "language_info": {
   "codemirror_mode": {
    "name": "ipython",
    "version": 3
   },
   "file_extension": ".py",
   "mimetype": "text/x-python",
   "name": "python",
   "nbconvert_exporter": "python",
   "pygments_lexer": "ipython3",
   "version": "3.9.13"
  }
 },
 "nbformat": 4,
 "nbformat_minor": 5
}
