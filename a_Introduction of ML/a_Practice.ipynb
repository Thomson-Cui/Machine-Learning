{
 "cells": [
  {
   "cell_type": "markdown",
   "id": "075321de",
   "metadata": {},
   "source": [
    "## 1. Data Collection"
   ]
  },
  {
   "cell_type": "code",
   "execution_count": 1,
   "id": "5ff312df",
   "metadata": {},
   "outputs": [
    {
     "name": "stdout",
     "output_type": "stream",
     "text": [
      "The number of data in the set: 545\n"
     ]
    }
   ],
   "source": [
    "import numpy as np\n",
    "import pandas as pd\n",
    "import matplotlib.pyplot as plt\n",
    "\n",
    "data = pd.read_csv(\"Housing.csv\")\n",
    "m = len(data)\n",
    "print(\"The number of data in the set:\",m)"
   ]
  },
  {
   "cell_type": "code",
   "execution_count": 2,
   "id": "20ab53ba",
   "metadata": {},
   "outputs": [
    {
     "data": {
      "text/html": [
       "<div>\n",
       "<style scoped>\n",
       "    .dataframe tbody tr th:only-of-type {\n",
       "        vertical-align: middle;\n",
       "    }\n",
       "\n",
       "    .dataframe tbody tr th {\n",
       "        vertical-align: top;\n",
       "    }\n",
       "\n",
       "    .dataframe thead th {\n",
       "        text-align: right;\n",
       "    }\n",
       "</style>\n",
       "<table border=\"1\" class=\"dataframe\">\n",
       "  <thead>\n",
       "    <tr style=\"text-align: right;\">\n",
       "      <th></th>\n",
       "      <th>Price</th>\n",
       "      <th>Square</th>\n",
       "    </tr>\n",
       "  </thead>\n",
       "  <tbody>\n",
       "    <tr>\n",
       "      <th>0</th>\n",
       "      <td>13300000</td>\n",
       "      <td>7420</td>\n",
       "    </tr>\n",
       "    <tr>\n",
       "      <th>1</th>\n",
       "      <td>12250000</td>\n",
       "      <td>8960</td>\n",
       "    </tr>\n",
       "    <tr>\n",
       "      <th>2</th>\n",
       "      <td>12250000</td>\n",
       "      <td>9960</td>\n",
       "    </tr>\n",
       "    <tr>\n",
       "      <th>3</th>\n",
       "      <td>12215000</td>\n",
       "      <td>7500</td>\n",
       "    </tr>\n",
       "    <tr>\n",
       "      <th>4</th>\n",
       "      <td>11410000</td>\n",
       "      <td>7420</td>\n",
       "    </tr>\n",
       "    <tr>\n",
       "      <th>5</th>\n",
       "      <td>10850000</td>\n",
       "      <td>7500</td>\n",
       "    </tr>\n",
       "    <tr>\n",
       "      <th>6</th>\n",
       "      <td>10150000</td>\n",
       "      <td>8580</td>\n",
       "    </tr>\n",
       "    <tr>\n",
       "      <th>7</th>\n",
       "      <td>10150000</td>\n",
       "      <td>16200</td>\n",
       "    </tr>\n",
       "    <tr>\n",
       "      <th>8</th>\n",
       "      <td>9870000</td>\n",
       "      <td>8100</td>\n",
       "    </tr>\n",
       "    <tr>\n",
       "      <th>9</th>\n",
       "      <td>9800000</td>\n",
       "      <td>5750</td>\n",
       "    </tr>\n",
       "  </tbody>\n",
       "</table>\n",
       "</div>"
      ],
      "text/plain": [
       "      Price  Square\n",
       "0  13300000    7420\n",
       "1  12250000    8960\n",
       "2  12250000    9960\n",
       "3  12215000    7500\n",
       "4  11410000    7420\n",
       "5  10850000    7500\n",
       "6  10150000    8580\n",
       "7  10150000   16200\n",
       "8   9870000    8100\n",
       "9   9800000    5750"
      ]
     },
     "execution_count": 2,
     "metadata": {},
     "output_type": "execute_result"
    }
   ],
   "source": [
    "data.head(10)"
   ]
  },
  {
   "cell_type": "code",
   "execution_count": 3,
   "id": "d2e25ce9",
   "metadata": {},
   "outputs": [
    {
     "data": {
      "image/png": "[encoded data removed]",
      "text/plain": [
       "<Figure size 640x480 with 1 Axes>"
      ]
     },
     "metadata": {},
     "output_type": "display_data"
    }
   ],
   "source": [
    "price = data['Price'] / 10000000\n",
    "square = data['Square'] / 10000\n",
    "\n",
    "plt.scatter(square, price, s=1)\n",
    "plt.title(\"Housing\")\n",
    "plt.xlabel(\"Square x 10^4\")\n",
    "plt.ylabel(\"Price x 10^7\")\n",
    "plt.show()"
   ]
  },
  {
   "cell_type": "markdown",
   "id": "21d7cbdf",
   "metadata": {},
   "source": [
    "## 2. Feature scaling with Standardization"
   ]
  },
  {
   "cell_type": "code",
   "execution_count": 4,
   "id": "b8bffa41",
   "metadata": {},
   "outputs": [],
   "source": [
    "# def standardization(data):\n",
    "#     mean_val = np.mean(data)\n",
    "#     std_dev = np.std(data)\n",
    "#     standardized_data = [(x - mean_val) / std_dev for x in data]\n",
    "#     return standardized_data\n",
    "\n",
    "# # Example usage:\n",
    "# square_standardized = standardization(square)\n",
    "# price_standardized = standardization(price)"
   ]
  },
  {
   "cell_type": "markdown",
   "id": "db406d28",
   "metadata": {},
   "source": [
    "## 3. Gradient descent algorithm "
   ]
  },
  {
   "cell_type": "markdown",
   "id": "50da4afb",
   "metadata": {},
   "source": [
    "### 3.1 Linear Regression\n",
    "$f_{w,b}({x^{(i)}})=w{x^{(i)}}+b$"
   ]
  },
  {
   "cell_type": "code",
   "execution_count": 5,
   "id": "9c23de72",
   "metadata": {},
   "outputs": [],
   "source": [
    "def Predicting_Function(w, b, x):\n",
    "    y = w * x + b\n",
    "    return y"
   ]
  },
  {
   "cell_type": "markdown",
   "id": "95517f3e",
   "metadata": {},
   "source": [
    "### 3.2 The gradient\n",
    "\n",
    "$$\n",
    "\\begin{align}\n",
    "\\frac{\\partial J(w,b)}{\\partial w}  &= \\frac{1}{m} \\sum\\limits_{i = 0}^{m-1} (f_{w,b}(x^{(i)}) - y^{(i)})x^{(i)} \\\\\n",
    "  \\frac{\\partial J(w,b)}{\\partial b}  &= \\frac{1}{m} \\sum\\limits_{i = 0}^{m-1} (f_{w,b}(x^{(i)}) - y^{(i)}) \\\\\n",
    "\\end{align}\n",
    "$$\n",
    "\n",
    "#### Parameters Updated simultaneously\n",
    "\n",
    "$$\\begin{aligned}\n",
    "&tmp\\_{w}=w-\\alpha\\frac{\\partial}{\\partial w}J(w,b) \\\\\n",
    "&tmp\\_{b}=b-\\alpha\\frac{\\partial}{\\partial b}J(w,b) \\\\\n",
    "&w = tmp\\_{w} \\\\\n",
    "&b = tmp\\_{b} \\\\\n",
    "\\end{aligned}$$"
   ]
  },
  {
   "cell_type": "code",
   "execution_count": 6,
   "id": "7d862a2c",
   "metadata": {},
   "outputs": [],
   "source": [
    "def Gradient_Computing(square, price, w, b):\n",
    "    m = len(square)\n",
    "    Gradient_w = 0\n",
    "    Gradient_b = 0\n",
    "    for i in range(m):\n",
    "        Gradient_w += (Predicting_Function(w, b, square[i]) - price[i]) * square[i]\n",
    "        Gradient_b += (Predicting_Function(w, b, square[i]) - price[i])\n",
    "    Gradient_w /= m\n",
    "    Gradient_b /= m\n",
    "    return Gradient_w, Gradient_b"
   ]
  },
  {
   "cell_type": "markdown",
   "id": "efa49e54",
   "metadata": {},
   "source": [
    "### 3.3 Cost Function\n",
    "\n",
    "$$J(w,b)=\\frac{1}{2m}\\sum_{i=1}^{m}\\bigl(f_{w,b}\\bigl(x^{(i)}\\bigr)-y^{(i)}\\bigr)^{2}$$\n",
    "\n",
    "$$\\text{m = number of training examples}$$\n",
    "\n",
    "$$\\text{Best parameters w, b can minimize }J(w,b)$$"
   ]
  },
  {
   "cell_type": "code",
   "execution_count": 7,
   "id": "aeddb1a1",
   "metadata": {},
   "outputs": [],
   "source": [
    "def Cost(w, b, x, y):\n",
    "    m = len(x)\n",
    "    J_w_b = 0\n",
    "    for i in range(m):\n",
    "        J_w_b += (Predicting_Function(w, b, x[i]) - y[i])**2\n",
    "    J_w_b /= (2 * m)\n",
    "    return J_w_b"
   ]
  },
  {
   "cell_type": "markdown",
   "id": "aaf38502",
   "metadata": {},
   "source": [
    "### 3.4 Gradient Descent\n",
    "\n",
    "*Gradient descent* was described as:\n",
    "\n",
    "$$\\begin{align*} \\text{repeat}&\\text{ until convergence:} \\; \\lbrace \\newline\n",
    "\\;  w &= w -  \\alpha \\frac{\\partial J(w,b)}{\\partial w}   \\; \\newline \n",
    " b &= b -  \\alpha \\frac{\\partial J(w,b)}{\\partial b}  \\newline \\rbrace\n",
    "\\end{align*}$$"
   ]
  },
  {
   "cell_type": "code",
   "execution_count": 8,
   "id": "96a945a9",
   "metadata": {},
   "outputs": [],
   "source": [
    "def Gradient_Descent(alpha, w, b, square, price, iterations):\n",
    "    m = len(square)\n",
    "    J_w_b = Cost(w, b, square, price)\n",
    "    for i in range(iterations):\n",
    "        if i % 100 == 0:  # Print every 100 iterations\n",
    "            print(\"Iteration:\", i, \"w =\", w, \"b =\", b, \"J_w_b =\", J_w_b)\n",
    "        Gradient_w, Gradient_b = Gradient_Computing(square, price, w, b)\n",
    "        temp_w = w - alpha * Gradient_w\n",
    "        temp_b = b - alpha * Gradient_b\n",
    "        w = temp_w\n",
    "        b = temp_b\n",
    "        J_w_b = Cost(w, b, square, price)\n",
    "        \n",
    "    print(\"Iteration:\", i, \"w =\", w, \"b =\", b, \"J_w_b =\", J_w_b)\n",
    "    return w, b, J_w_b"
   ]
  },
  {
   "cell_type": "code",
   "execution_count": 9,
   "id": "89df9cca",
   "metadata": {
    "scrolled": false
   },
   "outputs": [
    {
     "name": "stdout",
     "output_type": "stream",
     "text": [
      "Iteration: 0 w = 0 b = 0 J_w_b = 0.13106916364659238\n",
      "Iteration: 100 w = 0.1554549962774025 b = 0.2680723194271046 J_w_b = 0.0229129946131505\n",
      "Iteration: 200 w = 0.20498225154052496 b = 0.3388803652914768 J_w_b = 0.014515579757237437\n",
      "Iteration: 300 w = 0.2249306609297837 b = 0.35516570379644447 J_w_b = 0.013781009674313073\n",
      "Iteration: 400 w = 0.23645948836573438 b = 0.35646725232744814 J_w_b = 0.013640926723793863\n",
      "Iteration: 500 w = 0.24543860540691864 b = 0.35373404466022373 J_w_b = 0.013552417102385058\n",
      "Iteration: 600 w = 0.2535019950012891 b = 0.3499950675303222 J_w_b = 0.013473392212404407\n",
      "Iteration: 700 w = 0.2611098947843503 b = 0.34608538321801435 J_w_b = 0.013400229163026458\n",
      "Iteration: 800 w = 0.268397107525542 b = 0.3422324216616286 J_w_b = 0.013332285019920984\n",
      "Iteration: 900 w = 0.275408016998959 b = 0.33849542285011136 J_w_b = 0.013269171479653733\n",
      "Iteration: 1000 w = 0.28216170358223663 b = 0.3348871696561456 J_w_b = 0.013210543872193727\n",
      "Iteration: 1100 w = 0.28866999233708385 b = 0.3314077063366137 J_w_b = 0.013156083255648\n",
      "Iteration: 1200 w = 0.29494246172464156 b = 0.32805367475647956 J_w_b = 0.013105493451495273\n",
      "Iteration: 1300 w = 0.3009878397268793 b = 0.32482089620569754 J_w_b = 0.013058499339477657\n",
      "Iteration: 1400 w = 0.30681439886745693 b = 0.3217050822204721 J_w_b = 0.013014845354184193\n",
      "Iteration: 1500 w = 0.31243007360067 b = 0.3187020272456922 J_w_b = 0.012974294094668059\n",
      "Iteration: 1600 w = 0.3178425005005309 b = 0.3158076579067438 J_w_b = 0.012936625033360152\n",
      "Iteration: 1700 w = 0.32305903678574716 b = 0.3130180427065037 J_w_b = 0.01290163331678332\n",
      "Iteration: 1800 w = 0.3280867725756128 b = 0.31032939090204664 J_w_b = 0.012869128651509538\n",
      "Iteration: 1900 w = 0.3329325411513518 b = 0.30773804852171327 J_w_b = 0.012838934269297912\n",
      "Iteration: 2000 w = 0.3376029284164109 b = 0.305240493722863 J_w_b = 0.012810885965786304\n",
      "Iteration: 2100 w = 0.34210428189533254 b = 0.3028333320950617 J_w_b = 0.012784831207508288\n",
      "Iteration: 2200 w = 0.3464427193739593 b = 0.300513292071597 J_w_b = 0.012760628302379059\n",
      "Iteration: 2300 w = 0.35062413721778896 b = 0.2982772204899827 J_w_b = 0.012738145629139759\n",
      "Iteration: 2400 w = 0.35465421838674016 b = 0.29612207830840476 J_w_b = 0.012717260921569077\n",
      "Iteration: 2500 w = 0.35853844015913694 b = 0.2940449364758941 J_w_b = 0.012697860603569913\n",
      "Iteration: 2600 w = 0.3622820815759492 b = 0.29204297195160245 J_w_b = 0.012679839171515175\n",
      "Iteration: 2700 w = 0.3658902306155539 b = 0.2901134638680513 J_w_b = 0.012663098620493387\n",
      "Iteration: 2800 w = 0.36936779110880463 b = 0.28825378983321637 J_w_b = 0.01264754791133435\n",
      "Iteration: 2900 w = 0.37271948940382404 b = 0.28646142236643984 J_w_b = 0.01263310247551603\n",
      "Iteration: 3000 w = 0.375949880789578 b = 0.2847339254633374 J_w_b = 0.012619683755260307\n",
      "Iteration: 3100 w = 0.3790633556869638 b = 0.2830689512850256 J_w_b = 0.012607218776317212\n",
      "Iteration: 3200 w = 0.3820641456158255 b = 0.2814642369671781 J_w_b = 0.012595639751112714\n",
      "Iteration: 3300 w = 0.384956328946007 b = 0.27991760154457046 J_w_b = 0.012584883710103929\n",
      "Iteration: 3400 w = 0.38774383644025934 b = 0.2784269429869318 J_w_b = 0.012574892159335214\n",
      "Iteration: 3500 w = 0.3904304565965359 b = 0.2769902353420786 J_w_b = 0.012565610762333987\n",
      "Iteration: 3600 w = 0.3930198407969354 b = 0.27560552598244503 J_w_b = 0.012556989044615864\n",
      "Iteration: 3700 w = 0.39551550827029025 b = 0.27427093295127036 J_w_b = 0.012548980119192112\n",
      "Iteration: 3800 w = 0.3979208508751458 b = 0.27298464240483294 J_w_b = 0.01254154043158689\n",
      "Iteration: 3900 w = 0.4002391377096319 b = 0.27174490614725744 J_w_b = 0.012534629522977469\n",
      "Iteration: 4000 w = 0.40247351955448957 b = 0.27055003925454507 J_w_b = 0.012528209810169348\n",
      "Iteration: 4100 w = 0.4046270331552928 b = 0.26939841778459483 J_w_b = 0.012522246381209676\n",
      "Iteration: 4200 w = 0.4067026053496863 b = 0.2682884765701051 J_w_b = 0.012516706805527735\n",
      "Iteration: 4300 w = 0.40870305704524723 b = 0.2672187070913578 J_w_b = 0.01251156095756956\n",
      "Iteration: 4400 w = 0.4106311070533757 b = 0.26618765542599065 J_w_b = 0.012506780852967855\n",
      "Iteration: 4500 w = 0.41248937578442973 b = 0.26519392027297345 J_w_b = 0.012502340496356259\n",
      "Iteration: 4600 w = 0.4142803888091204 b = 0.2642361510481004 J_w_b = 0.012498215740000306\n",
      "Iteration: 4700 w = 0.4160065802910127 b = 0.26331304604841493 J_w_b = 0.01249438415247612\n",
      "Iteration: 4800 w = 0.41767029629479274 b = 0.2624233506830648 J_w_b = 0.012490824896682897\n",
      "Iteration: 4900 w = 0.4192737979748031 b = 0.2615658557681904 J_w_b = 0.012487518616525743\n",
      "Iteration: 5000 w = 0.42081926464817465 b = 0.26073939588352407 J_w_b = 0.012484447331652536\n",
      "Iteration: 5100 w = 0.42230879675673205 b = 0.25994284778846904 J_w_b = 0.012481594339672428\n",
      "Iteration: 5200 w = 0.4237444187217038 b = 0.2591751288955038 J_w_b = 0.012478944125324153\n",
      "Iteration: 5300 w = 0.42512808169510913 b = 0.2584351957988407 J_w_b = 0.01247648227610034\n",
      "Iteration: 5400 w = 0.4264616662115666 b = 0.25772204285633166 J_w_b = 0.01247419540386878\n",
      "Iteration: 5500 w = 0.4277469847441272 b = 0.2570347008227037 J_w_b = 0.012472071072064482\n",
      "Iteration: 5600 w = 0.42898578416760275 b = 0.2563722355322571 J_w_b = 0.012470097728056679\n",
      "Iteration: 5700 w = 0.4301797481327422 b = 0.25573374662924364 J_w_b = 0.012468264640322862\n",
      "Iteration: 5800 w = 0.4313304993544792 b = 0.2551183663441925 J_w_b = 0.012466561840087929\n",
      "Iteration: 5900 w = 0.43243960181736174 b = 0.25452525831452705 J_w_b = 0.012464980067112006\n",
      "Iteration: 6000 w = 0.4335085629011615 b = 0.25395361644786485 J_w_b = 0.012463510719330531\n",
      "Iteration: 6100 w = 0.4345388354295526 b = 0.2534026638264594 J_w_b = 0.012462145806074467\n",
      "Iteration: 6200 w = 0.43553181964464094 b = 0.2528716516512906 J_w_b = 0.01246087790461504\n",
      "Iteration: 6300 w = 0.43648886511003326 b = 0.2523598582243752 J_w_b = 0.01245970011979705\n",
      "Iteration: 6400 w = 0.4374112725450264 b = 0.25186658796790523 J_w_b = 0.012458606046541516\n",
      "Iteration: 6500 w = 0.4383002955924124 b = 0.2513911704788917 J_w_b = 0.01245758973501307\n",
      "Iteration: 6600 w = 0.4391571425223046 b = 0.25093295961801904 J_w_b = 0.012456645658263538\n",
      "Iteration: 6700 w = 0.4399829778742951 b = 0.25049133263147877 J_w_b = 0.012455768682174977\n",
      "Iteration: 6800 w = 0.4407789240401794 b = 0.25006568930458484 J_w_b = 0.012454954037539006\n",
      "Iteration: 6900 w = 0.44154606278939745 b = 0.24965545114602355 J_w_b = 0.012454197294120882\n",
      "Iteration: 7000 w = 0.4422854367392643 b = 0.24926006060162603 J_w_b = 0.01245349433656662\n",
      "Iteration: 7100 w = 0.44299805077199245 b = 0.24887898029659744 J_w_b = 0.012452841342022803\n",
      "Iteration: 7200 w = 0.44368487340042334 b = 0.24851169230517098 J_w_b = 0.012452234759347014\n",
      "Iteration: 7300 w = 0.44434683808433295 b = 0.24815769744669636 J_w_b = 0.012451671289795728\n",
      "Iteration: 7400 w = 0.44498484449909703 b = 0.2478165146072036 J_w_b = 0.012451147869085116\n",
      "Iteration: 7500 w = 0.44559975975843646 b = 0.24748768008552183 J_w_b = 0.012450661650726584\n",
      "Iteration: 7600 w = 0.4461924195929121 b = 0.2471707469630633 J_w_b = 0.012450209990546983\n",
      "Iteration: 7700 w = 0.44676362948576503 b = 0.24686528449641718 J_w_b = 0.012449790432308865\n",
      "Iteration: 7800 w = 0.44731416576764643 b = 0.24657087753192672 J_w_b = 0.012449400694352948\n",
      "Iteration: 7900 w = 0.4478447766717302 b = 0.24628712594145408 J_w_b = 0.012449038657189847\n",
      "Iteration: 8000 w = 0.44835618335063276 b = 0.2460136440785671 J_w_b = 0.0124487023519738\n",
      "Iteration: 8100 w = 0.44884908085653275 b = 0.24575006025440743 J_w_b = 0.01244838994979559\n",
      "Iteration: 8200 w = 0.4493241390858145 b = 0.2454960162325293 J_w_b = 0.012448099751736556\n",
      "Iteration: 8300 w = 0.44978200368952403 b = 0.24525116674201955 J_w_b = 0.012447830179629334\n",
      "Iteration: 8400 w = 0.45022329695087254 b = 0.24501517900824188 J_w_b = 0.012447579767475564\n",
      "Iteration: 8500 w = 0.45064861863098 b = 0.2447877323005616 J_w_b = 0.012447347153473313\n",
      "Iteration: 8600 w = 0.4510585467840108 b = 0.24456851749644268 J_w_b = 0.012447131072611322\n",
      "Iteration: 8700 w = 0.4514536385428056 b = 0.24435723666131873 J_w_b = 0.012446930349789493\n",
      "Iteration: 8800 w = 0.45183443087608044 b = 0.24415360264367045 J_w_b = 0.012446743893428555\n",
      "Iteration: 8900 w = 0.4522014413182197 b = 0.24395733868475894 J_w_b = 0.012446570689533627\n"
     ]
    },
    {
     "name": "stdout",
     "output_type": "stream",
     "text": [
      "Iteration: 9000 w = 0.4525551686726569 b = 0.24376817804248274 J_w_b = 0.012446409796180037\n",
      "Iteration: 9100 w = 0.4528960936897972 b = 0.24358586362884932 J_w_b = 0.012446260338390724\n",
      "Iteration: 9200 w = 0.45322467972040603 b = 0.24341014766056673 J_w_b = 0.012446121503378066\n",
      "Iteration: 9300 w = 0.45354137334534655 b = 0.24324079132228207 J_w_b = 0.012445992536123648\n",
      "Iteration: 9400 w = 0.4538466049825295 b = 0.2430775644420075 J_w_b = 0.01244587273527226\n",
      "Iteration: 9500 w = 0.45414078947189146 b = 0.24292024517829405 J_w_b = 0.012445761449317938\n",
      "Iteration: 9600 w = 0.45442432663920407 b = 0.24276861971872682 J_w_b = 0.012445658073060657\n",
      "Iteration: 9700 w = 0.45469760183947777 b = 0.242622481989333 J_w_b = 0.012445562044315336\n",
      "Iteration: 9800 w = 0.45496098648069555 b = 0.24248163337450715 J_w_b = 0.012445472840854357\n",
      "Iteration: 9900 w = 0.4552148385285944 b = 0.24234588244707297 J_w_b = 0.012445389977567748\n",
      "Iteration: 9999 w = 0.45545950299317567 b = 0.24221504470811434 J_w_b = 0.01244531300382485\n",
      "Best parameters w, b = 0.45545950299317567 0.24221504470811434\n",
      "J(w,b)= 0.01244531300382485\n"
     ]
    }
   ],
   "source": [
    "# Initialization\n",
    "alpha = 0.01\n",
    "w = 0 \n",
    "b = 0\n",
    "iterations = 10000\n",
    "\n",
    "# Invoke Gradient Descent Algorithm, and get best parameters.\n",
    "w, b, J_w_b = Gradient_Descent(alpha, w, b, square, price, iterations)\n",
    "\n",
    "print(\"Best parameters w, b =\",w ,b)\n",
    "print(\"J(w,b)=\", J_w_b)"
   ]
  },
  {
   "cell_type": "code",
   "execution_count": 10,
   "id": "364a9b22",
   "metadata": {},
   "outputs": [
    {
     "data": {
      "image/png": "[encoded data removed]",
      "text/plain": [
       "<Figure size 640x480 with 1 Axes>"
      ]
     },
     "metadata": {},
     "output_type": "display_data"
    }
   ],
   "source": [
    "price = data['Price'] / 10000000\n",
    "square = data['Square'] / 10000\n",
    "\n",
    "x = np.arange(0, 1.8, 0.1)\n",
    "y = Predicting_Function(w, b, x)\n",
    "\n",
    "plt.scatter(square, price, s=1)\n",
    "plt.plot(x, y, color = \"r\")\n",
    "plt.title(\"Housing\")\n",
    "plt.xlabel(\"Square x 10^4\")\n",
    "plt.ylabel(\"Price x 10^7\")\n",
    "plt.show()"
   ]
  },
  {
   "cell_type": "code",
   "execution_count": 11,
   "id": "0839f2f4",
   "metadata": {
    "scrolled": false
   },
   "outputs": [
    {
     "name": "stdout",
     "output_type": "stream",
     "text": [
      "Iteration: 0 w = 0 b = 0 J_w_b = 8.6\n",
      "Iteration: 100 w = 1.0417530517794173 b = 0.6051164658853391 J_w_b = 0.4714944115717107\n",
      "Iteration: 200 w = 0.9729963053179606 b = 0.8533649866648746 J_w_b = 0.4050376166073046\n",
      "Iteration: 300 w = 0.9149384936846535 b = 1.0629721083554924 J_w_b = 0.35765906019687305\n",
      "Iteration: 400 w = 0.8659175262241602 b = 1.2399533551566193 J_w_b = 0.3238818127103192\n",
      "Iteration: 500 w = 0.8245267954573398 b = 1.3893870264325945 J_w_b = 0.2998012468550727\n",
      "Iteration: 600 w = 0.7895786358806834 b = 1.5155609714953076 J_w_b = 0.28263366527105827\n",
      "Iteration: 700 w = 0.760070245108938 b = 1.6220956251429983 J_w_b = 0.27039450697156253\n",
      "Iteration: 800 w = 0.7351549094664954 b = 1.712047892405405 J_w_b = 0.2616689334161354\n",
      "Iteration: 900 w = 0.7141177083877446 b = 1.7879988633674513 J_w_b = 0.2554482741184853\n",
      "Iteration: 1000 w = 0.6963550004885218 b = 1.8521278749603411 J_w_b = 0.25101342501067236\n",
      "Iteration: 1100 w = 0.6813571026820594 b = 1.9062750448488748 J_w_b = 0.24785172049223042\n",
      "Iteration: 1200 w = 0.6686936653340333 b = 1.9519940717621609 J_w_b = 0.24559766962850987\n",
      "Iteration: 1300 w = 0.6580013238114581 b = 1.9905968173202504 J_w_b = 0.24399070564227898\n",
      "Iteration: 1400 w = 0.6489732720990057 b = 2.0231909485874997 J_w_b = 0.24284506456797766\n",
      "Iteration: 1500 w = 0.6413504593081277 b = 2.0507117214679695 J_w_b = 0.2420283110611332\n",
      "Iteration: 1600 w = 0.634914156471645 b = 2.073948816935503 J_w_b = 0.24144602896082593\n",
      "Iteration: 1700 w = 0.6294796803354229 b = 2.093569000137206 J_w_b = 0.2410309068444262\n",
      "Iteration: 1800 w = 0.6248910940576348 b = 2.1101352525505637 J_w_b = 0.24073495687201013\n",
      "Iteration: 1900 w = 0.6210167327574969 b = 2.1241229261722445 J_w_b = 0.24052396742405513\n",
      "Iteration: 2000 w = 0.6177454255235743 b = 2.1359333832668694 J_w_b = 0.2403735482610294\n",
      "Iteration: 2100 w = 0.6149833054759851 b = 2.145905513054611 J_w_b = 0.2402663110279608\n",
      "Iteration: 2200 w = 0.6126511163504338 b = 2.1543254557974536 J_w_b = 0.240189859172194\n",
      "Iteration: 2300 w = 0.6106819383192006 b = 2.161434813307011 J_w_b = 0.2401353549101673\n",
      "Iteration: 2400 w = 0.6090192677938099 b = 2.167437581466172 J_w_b = 0.24009649758552443\n",
      "Iteration: 2500 w = 0.6076153961112315 b = 2.172506003686353 J_w_b = 0.24006879531744016\n",
      "Iteration: 2600 w = 0.6064300405816496 b = 2.1767855132594165 J_w_b = 0.24004904574219105\n",
      "Iteration: 2700 w = 0.6054291886170805 b = 2.18039890642012 J_w_b = 0.24003496582204412\n",
      "Iteration: 2800 w = 0.6045841217742784 b = 2.1834498658608923 J_w_b = 0.24002492792761604\n",
      "Iteration: 2900 w = 0.6038705917078115 b = 2.186025935802702 J_w_b = 0.24001777168500277\n",
      "Iteration: 3000 w = 0.6032681243881085 b = 2.1882010339886757 J_w_b = 0.24001266983732888\n",
      "Iteration: 3100 w = 0.6027594326197196 b = 2.190037572679583 J_w_b = 0.24000903261440384\n",
      "Iteration: 3200 w = 0.6023299200025793 b = 2.191588249511075 J_w_b = 0.24000643955568282\n",
      "Iteration: 3300 w = 0.6019672621029505 b = 2.192897559599464 J_w_b = 0.24000459090530574\n",
      "Iteration: 3400 w = 0.6016610528161568 b = 2.1940030722844694 J_w_b = 0.24000327296052149\n",
      "Iteration: 3500 w = 0.6014025057738493 b = 2.194936509143732 J_w_b = 0.2400023333677917\n",
      "Iteration: 3600 w = 0.6011842022279766 b = 2.195724654211672 J_w_b = 0.24000166351082317\n",
      "Iteration: 3700 w = 0.6009998781772543 b = 2.196390122520484 J_w_b = 0.24000118595459696\n",
      "Iteration: 3800 w = 0.6008442446279285 b = 2.196952009015808 J_w_b = 0.24000084549393158\n",
      "Iteration: 3900 w = 0.600712835831404 b = 2.197426436467047 J_w_b = 0.24000060277180096\n",
      "Iteration: 4000 w = 0.6006018811440705 b = 2.1978270180940522 J_w_b = 0.24000042972968857\n",
      "Iteration: 4100 w = 0.6005081968324659 b = 2.198165248184816 J_w_b = 0.24000030636404207\n",
      "Iteration: 4200 w = 0.6004290947192366 b = 2.1984508319125386 J_w_b = 0.24000021841387437\n",
      "Iteration: 4300 w = 0.6003623050485837 b = 2.198691963815843 J_w_b = 0.24000015571220507\n",
      "Iteration: 4400 w = 0.6003059113578995 b = 2.1988955629328344 J_w_b = 0.24000011101076285\n",
      "Iteration: 4500 w = 0.6002582954867948 b = 2.199067471335956 J_w_b = 0.24000007914209073\n",
      "Iteration: 4600 w = 0.6002180911456066 b = 2.199212621764414 J_w_b = 0.24000005642219144\n",
      "Iteration: 4700 w = 0.6001841447110913 b = 2.1993351791641604 J_w_b = 0.24000004022466004\n",
      "Iteration: 4800 w = 0.6001554821243594 b = 2.199438660196851 J_w_b = 0.24000002867707257\n",
      "Iteration: 4900 w = 0.6001312809412335 b = 2.1995260341469294 J_w_b = 0.24000002044453553\n",
      "Iteration: 5000 w = 0.6001108467330392 b = 2.1995998081222514 J_w_b = 0.24000001457537304\n",
      "Iteration: 5100 w = 0.6000935931606671 b = 2.199662098993043 J_w_b = 0.2400000103911139\n",
      "Iteration: 5200 w = 0.6000790251501643 b = 2.199714694133362 J_w_b = 0.24000000740806077\n",
      "Iteration: 5300 w = 0.6000667246870819 b = 2.199759102708006 J_w_b = 0.2400000052813746\n",
      "Iteration: 5400 w = 0.6000563388219692 b = 2.1997965989764796 J_w_b = 0.2400000037652117\n",
      "Iteration: 5500 w = 0.6000475695428434 b = 2.199828258856601 J_w_b = 0.24000000268430483\n",
      "Iteration: 5600 w = 0.6000401652240361 b = 2.199854990796873 J_w_b = 0.2400000019137018\n",
      "Iteration: 5700 w = 0.6000339134060467 b = 2.199877561843506 J_w_b = 0.2400000013643214\n",
      "Iteration: 5800 w = 0.6000286346992274 b = 2.1998966196500485 J_w_b = 0.24000000097265567\n",
      "Iteration: 5900 w = 0.6000241776363814 b = 2.199912711061141 J_w_b = 0.24000000069342825\n",
      "Iteration: 6000 w = 0.6000204143265598 b = 2.199926297803689 J_w_b = 0.24000000049436085\n",
      "Iteration: 6100 w = 0.6000172367853638 b = 2.1999377697356337 J_w_b = 0.24000000035244104\n",
      "Iteration: 6200 w = 0.6000145538364348 b = 2.199947456032563 J_w_b = 0.24000000025126314\n",
      "Iteration: 6300 w = 0.6000122884952438 b = 2.199955634633051 J_w_b = 0.24000000017913115\n",
      "Iteration: 6400 w = 0.6000103757600986 b = 2.1999625402138325 J_w_b = 0.24000000012770678\n",
      "Iteration: 6500 w = 0.600008760746982 b = 2.1999683709236253 J_w_b = 0.24000000009104494\n",
      "Iteration: 6600 w = 0.6000073971147131 b = 2.1999732940687937 J_w_b = 0.24000000006490793\n",
      "Iteration: 6700 w = 0.6000062457352313 b = 2.1999774509140537 J_w_b = 0.24000000004627436\n",
      "Iteration: 6800 w = 0.6000052735708578 b = 2.1999809607359087 J_w_b = 0.24000000003299013\n",
      "Iteration: 6900 w = 0.6000044527263095 b = 2.1999839242451804 J_w_b = 0.24000000002351934\n",
      "Iteration: 7000 w = 0.6000037596482772 b = 2.199986426476789 J_w_b = 0.24000000001676755\n",
      "Iteration: 7100 w = 0.6000031744495808 b = 2.199988539229766 J_w_b = 0.24000000001195404\n",
      "Iteration: 7200 w = 0.6000026803385315 b = 2.1999903231274343 J_w_b = 0.24000000000852234\n",
      "Iteration: 7300 w = 0.6000022631371076 b = 2.1999918293569523 J_w_b = 0.24000000000607566\n",
      "Iteration: 7400 w = 0.6000019108741336 b = 2.1999931011380602 J_w_b = 0.2400000000043315\n",
      "Iteration: 7500 w = 0.600001613441776 b = 2.199994174963246 J_w_b = 0.2400000000030881\n",
      "Iteration: 7600 w = 0.6000013623055119 b = 2.1999950816448446 J_w_b = 0.24000000000220156\n",
      "Iteration: 7700 w = 0.6000011502592381 b = 2.1999958471991756 J_w_b = 0.24000000000156957\n",
      "Iteration: 7800 w = 0.6000009712184992 b = 2.1999964935930523 J_w_b = 0.24000000000111896\n",
      "Iteration: 7900 w = 0.6000008200459005 b = 2.1999970393740997 J_w_b = 0.2400000000007978\n",
      "Iteration: 8000 w = 0.6000006924036966 b = 2.199997500202957 J_w_b = 0.24000000000056865\n",
      "Iteration: 8100 w = 0.6000005846293226 b = 2.1999978893026437 J_w_b = 0.24000000000040536\n",
      "Iteration: 8200 w = 0.6000004936303006 b = 2.199998217837987 J_w_b = 0.2400000000002891\n",
      "Iteration: 8300 w = 0.6000004167955049 b = 2.1999984952359792 J_w_b = 0.24000000000020605\n",
      "Iteration: 8400 w = 0.6000003519202376 b = 2.199998729456279 J_w_b = 0.24000000000014682\n",
      "Iteration: 8500 w = 0.6000002971429687 b = 2.1999989272196 J_w_b = 0.24000000000010466\n",
      "Iteration: 8600 w = 0.6000002508919197 b = 2.199999094200562 J_w_b = 0.24000000000007474\n",
      "Iteration: 8700 w = 0.6000002118399627 b = 2.199999235190519 J_w_b = 0.24000000000005314\n",
      "Iteration: 8800 w = 0.6000001788665412 b = 2.199999354235032 J_w_b = 0.24000000000003804\n",
      "Iteration: 8900 w = 0.6000001510255146 b = 2.1999994547499724 J_w_b = 0.24000000000002703\n",
      "Iteration: 9000 w = 0.6000001275180142 b = 2.199999539619508 J_w_b = 0.24000000000001917\n",
      "Iteration: 9100 w = 0.6000001076695148 b = 2.199999611278888 J_w_b = 0.24000000000001376\n",
      "Iteration: 9200 w = 0.6000000909104846 b = 2.1999996717843056 J_w_b = 0.24000000000000984\n",
      "Iteration: 9300 w = 0.6000000767600392 b = 2.199999722871903 J_w_b = 0.24000000000000704\n",
      "Iteration: 9400 w = 0.6000000648121463 b = 2.199999766007587 J_w_b = 0.24000000000000493\n",
      "Iteration: 9500 w = 0.6000000547239728 b = 2.1999998024290943 J_w_b = 0.24000000000000368\n",
      "Iteration: 9600 w = 0.6000000462060492 b = 2.1999998331815016 J_w_b = 0.24000000000000252\n",
      "Iteration: 9700 w = 0.6000000390139619 b = 2.1999998591472187 J_w_b = 0.24000000000000185\n",
      "Iteration: 9800 w = 0.6000000329413411 b = 2.1999998810713066 J_w_b = 0.24000000000000118\n",
      "Iteration: 9900 w = 0.6000000278139387 b = 2.1999998995828567 J_w_b = 0.24000000000000102\n",
      "Iteration: 9999 w = 0.6000000234846292 b = 2.199999915213037 J_w_b = 0.24000000000000057\n",
      "Outcome: 0.6000000234846292 2.199999915213037 0.24000000000000057\n"
     ]
    }
   ],
   "source": [
    "# Artificial data\n",
    "square = [1, 2, 3, 4, 5]\n",
    "price = [2, 4, 5, 4, 5]\n",
    "\n",
    "alpha = 0.01\n",
    "w = 0 \n",
    "b = 0\n",
    "iterations = 10000\n",
    "\n",
    "w, b, J_w_b = Gradient_Descent(alpha, w, b, square, price, iterations)\n",
    "\n",
    "print(\"Outcome:\",w ,b ,J_w_b)"
   ]
  },
  {
   "cell_type": "code",
   "execution_count": 12,
   "id": "c0b3cc78",
   "metadata": {},
   "outputs": [
    {
     "data": {
      "image/png": "[encoded data removed]",
      "text/plain": [
       "<Figure size 640x480 with 1 Axes>"
      ]
     },
     "metadata": {},
     "output_type": "display_data"
    }
   ],
   "source": [
    "x = np.arange(0, 7, 1)\n",
    "y = Predicting_Function(w, b, x)\n",
    "\n",
    "plt.scatter(square, price, s=1)\n",
    "plt.plot(x, y, color = \"r\")\n",
    "plt.title(\"Housing\")\n",
    "plt.xlabel(\"Square\")\n",
    "plt.ylabel(\"Price\")\n",
    "plt.show()"
   ]
  },
  {
   "cell_type": "markdown",
   "id": "89c57e4c",
   "metadata": {},
   "source": [
    "# Data REFERENCE\n",
    "\n",
    "[1]https://www.kaggle.com/datasets/harishkumardatalab/housing-price-prediction"
   ]
  }
 ],
 "metadata": {
  "kernelspec": {
   "display_name": "Python 3 (ipykernel)",
   "language": "python",
   "name": "python3"
  },
  "language_info": {
   "codemirror_mode": {
    "name": "ipython",
    "version": 3
   },
   "file_extension": ".py",
   "mimetype": "text/x-python",
   "name": "python",
   "nbconvert_exporter": "python",
   "pygments_lexer": "ipython3",
   "version": "3.9.13"
  }
 },
 "nbformat": 4,
 "nbformat_minor": 5
}
